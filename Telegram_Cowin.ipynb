{
 "cells": [
  {
   "cell_type": "code",
   "execution_count": 28,
   "metadata": {},
   "outputs": [],
   "source": [
    "def call():\n",
    "\n",
    "\n",
    "    import requests\n",
    "    from datetime import datetime\n",
    "    now=datetime.now()\n",
    "    date=now.strftime(\"%d-%m-%Y\")\n",
    "    url_telegram=\"https://api.telegram.org/bot1824754703:AAG5nahI15sgtnDs5-rSWI_Dvm19sM9fw9s/sendMessage?chat_id=@__groupid__&text=\"\n",
    "    group_id=\"demo_cowin\"\n",
    "    fetch()"
   ]
  },
  {
   "cell_type": "code",
   "execution_count": 29,
   "metadata": {},
   "outputs": [],
   "source": [
    "def fetch():\n",
    "    url=\"https://cdn-api.co-vin.in/api/v2/appointment/sessions/public/calendarByDistrict?district_id=005&date={}\".format(date)\n",
    "    response=requests.get(url)\n",
    "    data=response.json()\n",
    "    k=data[\"centers\"]\n",
    "    count=0\n",
    "    for i in k:\n",
    "        for j in i[\"sessions\"]:\n",
    "            if(j[\"available_capacity\"]!=0):\n",
    "                count+=1\n",
    "                message=\"Name of the center:{} \\n City:{}\\n Minimum age:{}\\n Date:{}\\n Vaccine Type:{}\\nNo of Vacancies:{}\\n Fee Type:{}\".format(i[\"name\"],i[\"block_name\"],j[\"min_age_limit\"],j[\"date\"],j['vaccine'],j[\"available_capacity\"],i[\"fee_type\"])\n",
    "                print(message)\n",
    "                final_url=url_telegram.replace(\"__groupid__\",group_id)\n",
    "                final_url=final_url+message\n",
    "                res=requests.get(final_url)\n",
    "                print(res)\n",
    "    "
   ]
  },
  {
   "cell_type": "code",
   "execution_count": 30,
   "metadata": {},
   "outputs": [],
   "source": [
    "#fetch(5)"
   ]
  },
  {
   "cell_type": "code",
   "execution_count": 31,
   "metadata": {},
   "outputs": [
    {
     "data": {
      "text/plain": [
       "Every 10 seconds do <lambda>() (last run: [never], next run: 2021-06-07 13:29:18)"
      ]
     },
     "execution_count": 31,
     "metadata": {},
     "output_type": "execute_result"
    }
   ],
   "source": [
    "schedule.every().day.at(\"13:50\").do(lambda:call())\n",
    "while True:\n",
    "    schedule.run_pending()\n",
    "    time.sleep(1)"
   ]
  },
  {
   "cell_type": "code",
   "execution_count": null,
   "metadata": {},
   "outputs": [],
   "source": []
  }
 ],
 "metadata": {
  "kernelspec": {
   "display_name": "Python 3",
   "language": "python",
   "name": "python3"
  },
  "language_info": {
   "codemirror_mode": {
    "name": "ipython",
    "version": 3
   },
   "file_extension": ".py",
   "mimetype": "text/x-python",
   "name": "python",
   "nbconvert_exporter": "python",
   "pygments_lexer": "ipython3",
   "version": "3.7.6"
  }
 },
 "nbformat": 4,
 "nbformat_minor": 4
}
